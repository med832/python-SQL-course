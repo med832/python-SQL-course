{
 "cells": [
  {
   "cell_type": "code",
   "execution_count": 4,
   "id": "d06f2a35-feba-40a7-a381-36140763776d",
   "metadata": {},
   "outputs": [
    {
     "name": "stdout",
     "output_type": "stream",
     "text": [
      "1\n",
      "2\n",
      "3\n",
      "4\n",
      "5\n",
      "6\n",
      "7\n",
      "8\n",
      "9\n",
      "10\n"
     ]
    }
   ],
   "source": [
    "#Exercise 1: Print First 10 natural numbers using while loop\n",
    "i = 1\n",
    "while i<=10:\n",
    "    print(i)\n",
    "    i=i+1\n",
    "\n"
   ]
  },
  {
   "cell_type": "code",
   "execution_count": 9,
   "id": "dfcc7b0a-b83f-4137-94b8-dc408ab48d7c",
   "metadata": {},
   "outputs": [
    {
     "name": "stdout",
     "output_type": "stream",
     "text": [
      "[100, 200, 300, 400, 500]\n"
     ]
    }
   ],
   "source": [
    "#Exercise 2: Reverse this list [500, 400, 300, 200, 100] in Python\n",
    "#using the reverse(). syntex is list.reverse()\n",
    "original_list = [500, 400, 300, 200, 100]\n",
    "original_list.reverse()\n",
    "\n",
    "print(original_list)"
   ]
  },
  {
   "cell_type": "code",
   "execution_count": 15,
   "id": "7a7cf080-f578-4729-97e4-4b92d2ebc9f2",
   "metadata": {},
   "outputs": [
    {
     "name": "stdout",
     "output_type": "stream",
     "text": [
      "[10, 20, 55]\n"
     ]
    }
   ],
   "source": [
    "#Exercise 5: Display numbers divisible by 5 from a list [10, 20, 33, 46, 55]\n",
    "numbers = [10, 20, 33, 46, 55]\n",
    "divisible_by_5 = [number for number in numbers if number % 5 == 0]\n",
    "print(divisible_by_5)"
   ]
  },
  {
   "cell_type": "code",
   "execution_count": 16,
   "id": "11eaea17-9ffc-4063-9a3d-14a671098120",
   "metadata": {},
   "outputs": [
    {
     "name": "stdout",
     "output_type": "stream",
     "text": [
      "428\n"
     ]
    }
   ],
   "source": [
    "#Exercise 3: Calculate the sum of all numbers in the following list [55,32,75,86,49,11,120]\n",
    "numbers = [55, 32, 75, 86, 49, 11, 120]\n",
    "total_sum = sum(numbers)\n",
    "print(total_sum)\n"
   ]
  },
  {
   "cell_type": "code",
   "execution_count": 6,
   "id": "df5cdfeb-77e1-4f80-b743-3255c5a19e94",
   "metadata": {},
   "outputs": [
    {
     "ename": "SyntaxError",
     "evalue": "invalid syntax (2527629298.py, line 5)",
     "output_type": "error",
     "traceback": [
      "\u001b[1;36m  Cell \u001b[1;32mIn[6], line 5\u001b[1;36m\u001b[0m\n\u001b[1;33m    for item1, item2 in zip(l1[1::2], l2[::2]:\u001b[0m\n\u001b[1;37m                                             ^\u001b[0m\n\u001b[1;31mSyntaxError\u001b[0m\u001b[1;31m:\u001b[0m invalid syntax\n"
     ]
    }
   ],
   "source": [
    "l1 = [3,6,9,12,15,18,21]\n",
    "l2 = [4,8,12,16,20,24,28]\n",
    "l3 = []\n",
    "#using zip code\n",
    "for item1, item2 in zip(l1[1::2], l2[::2]:\n",
    "    l3.append(item1)\n",
    "    l3.append((item2)\n",
    "\n",
    "    print(l3)"
   ]
  }
 ],
 "metadata": {
  "kernelspec": {
   "display_name": "Python 3 (ipykernel)",
   "language": "python",
   "name": "python3"
  },
  "language_info": {
   "codemirror_mode": {
    "name": "ipython",
    "version": 3
   },
   "file_extension": ".py",
   "mimetype": "text/x-python",
   "name": "python",
   "nbconvert_exporter": "python",
   "pygments_lexer": "ipython3",
   "version": "3.11.7"
  }
 },
 "nbformat": 4,
 "nbformat_minor": 5
}
